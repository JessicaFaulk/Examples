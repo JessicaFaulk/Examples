{
 "cells": [
  {
   "cell_type": "markdown",
   "metadata": {},
   "source": [
    "## Predicting Dog Adoption"
   ]
  },
  {
   "cell_type": "code",
   "execution_count": 653,
   "metadata": {},
   "outputs": [],
   "source": [
    "import pandas as pd\n",
    "import numpy\n",
    "import datetime\n",
    "import numpy as np\n",
    "from sklearn.linear_model import LogisticRegression\n",
    "from sklearn.model_selection import train_test_split, GridSearchCV\n",
    "#Metrics\n",
    "from sklearn.metrics import accuracy_score"
   ]
  },
  {
   "cell_type": "code",
   "execution_count": 666,
   "metadata": {},
   "outputs": [],
   "source": [
    "#read in intake data\n",
    "df1=pd.read_csv('intakes.csv').set_index(['Animal ID'])\n",
    "df1['DateTime']= pd.to_datetime(df1['DateTime'])\n",
    "for col in ['Intake Condition', 'Animal Type', 'Sex upon Intake']:\n",
    "    df1[col] = df1[col].astype('category')"
   ]
  },
  {
   "cell_type": "code",
   "execution_count": 667,
   "metadata": {},
   "outputs": [],
   "source": [
    "#read in outcomes data\n",
    "df2=pd.read_csv('outcomes.csv').set_index(['Animal ID'])\n",
    "df2['DateTime']= pd.to_datetime(df2['DateTime']) \n",
    "for col in ['Outcome Type', 'Animal Type', 'Sex upon Outcome', 'Outcome Subtype']:\n",
    "    df2[col] = df2[col].astype('category')"
   ]
  },
  {
   "cell_type": "code",
   "execution_count": 675,
   "metadata": {},
   "outputs": [],
   "source": [
    "#join intakes to outcomes\n",
    "df3=pd.merge(df1, df2, on=['Animal ID', 'Color', 'Animal Type', 'Breed', 'Name'], how='right')"
   ]
  },
  {
   "cell_type": "code",
   "execution_count": 676,
   "metadata": {},
   "outputs": [],
   "source": [
    "#convert to datetime\n",
    "df3['diff_days'] = df3['DateTime_x'] - df3['DateTime_y']\n",
    "df3['diff_days']=df3['diff_days']/np.timedelta64(1,'D')\n",
    "#df3.head()"
   ]
  },
  {
   "cell_type": "code",
   "execution_count": 677,
   "metadata": {},
   "outputs": [],
   "source": [
    "#filter on rows for just dogs\n",
    "dfdog=df3[ (df3['Animal Type'] == \"Dog\") ]"
   ]
  },
  {
   "cell_type": "code",
   "execution_count": 678,
   "metadata": {},
   "outputs": [
    {
     "name": "stdout",
     "output_type": "stream",
     "text": [
      "Pit Bull Mix  :  14064\n",
      "Labrador Retriever Mix  :  9635\n",
      "Chihuahua Shorthair Mix  :  7589\n",
      "German Shepherd Mix  :  4104\n",
      "Australian Cattle Dog Mix  :  1967\n",
      "Rat Terrier Mix  :  1855\n",
      "Boxer Mix  :  1410\n",
      "Border Collie Mix  :  1320\n",
      "Dachshund Mix  :  1244\n",
      "Staffordshire Mix  :  1227\n",
      "Pit Bull  :  1177\n",
      "Miniature Poodle Mix  :  1150\n",
      "German Shepherd  :  1108\n",
      "Siberian Husky Mix  :  1011\n",
      "Labrador Retriever  :  1011\n",
      "Catahoula Mix  :  995\n",
      "Chihuahua Shorthair  :  926\n",
      "Australian Shepherd Mix  :  836\n",
      "Pointer Mix  :  804\n",
      "Beagle Mix  :  767\n"
     ]
    }
   ],
   "source": [
    "#Find the top 10 breeds\n",
    "n = 20\n",
    "top10name = dfdog['Breed'].value_counts()[:n].index.tolist()\n",
    "topnum = dfdog['Breed'].value_counts()[:n].values.tolist()\n",
    "top10 = {k: v for k, v in zip(top10name, topnum)}\n",
    "\n",
    "# Iterate over key/value pairs in dict and print them\n",
    "for key, value in top10.items():\n",
    "    print(key, ' : ', value)"
   ]
  },
  {
   "cell_type": "code",
   "execution_count": 679,
   "metadata": {},
   "outputs": [],
   "source": [
    "#filter down to owner surrendered dogs and those of the top ten breeds.\n",
    "dfdog = dfdog[dfdog['Breed'].isin(top10name)]\n",
    "\n",
    "#convert the age into weeks\n",
    "dfdog['age'], dfdog['unit'] = dfdog['Age upon Intake'].str.split(' ', 1).str\n",
    "dfdog=dfdog.drop(columns=['Age upon Intake'])\n",
    "tconversion = {'year': 52,'years': 52, 'month': 4, 'months': 4, 'week': 1, 'weeks': 1, 'day': 0.14, 'days': 0.14} \n",
    "dfdog['unit'] = dfdog['unit'].replace(tconversion, regex=True)\n",
    "dfdog['age'] = dfdog['age'].astype('float')\n",
    "dfdog['unit'] = dfdog['unit'].astype('float')\n",
    "dfdog['age_weeks'] = dfdog['unit']*dfdog['age']"
   ]
  },
  {
   "cell_type": "code",
   "execution_count": 694,
   "metadata": {},
   "outputs": [],
   "source": [
    "dfdog = dfdog[~dfdog.index.duplicated()]\n",
    "dfdog.dropna(how='any', inplace=True)"
   ]
  },
  {
   "cell_type": "code",
   "execution_count": 754,
   "metadata": {},
   "outputs": [],
   "source": [
    "dfdog['TF'] = ((dfdog['diff_days'] < 365) \n",
    "               #& (dfdog['diff_days'] >= 0) \n",
    "               #& (dfdog['Outcome Type'] == 'Adoption') \n",
    "               #& (dfdog['Outcome Subtype'] != \"Foster\")\n",
    "               & (dfdog['age_weeks'] > 52))"
   ]
  },
  {
   "cell_type": "code",
   "execution_count": 755,
   "metadata": {},
   "outputs": [
    {
     "name": "stdout",
     "output_type": "stream",
     "text": [
      "X (7086, 2)\n",
      "X (7086,)\n"
     ]
    }
   ],
   "source": [
    "y=dfdog['TF']\n",
    "X=dfdog[['Breed', 'age_weeks']]\n",
    "\n",
    "print('X', X.shape)\n",
    "print('X', y.shape)"
   ]
  },
  {
   "cell_type": "code",
   "execution_count": 756,
   "metadata": {},
   "outputs": [],
   "source": [
    "df_dummiesLabel = pd.get_dummies(y, prefix_sep='', prefix='d')\n",
    "df_dummies = X['Breed'].str.get_dummies(sep = \"/\")"
   ]
  },
  {
   "cell_type": "code",
   "execution_count": 757,
   "metadata": {},
   "outputs": [],
   "source": [
    "df_dummies = pd.concat([df_dummies, X['age_weeks']], axis=1)"
   ]
  },
  {
   "cell_type": "code",
   "execution_count": 758,
   "metadata": {},
   "outputs": [
    {
     "name": "stdout",
     "output_type": "stream",
     "text": [
      "means (age_weeks):  [0.03993791 0.0151002  0.01524132 0.02413209 0.02624894 0.01834603\n",
      " 0.02003951 0.18190799 0.02681343 0.01524132 0.07084392 0.01975727\n",
      " 0.17809766 0.02032176 0.03245837 0.23652272 0.01383009 0.01749929\n",
      " 0.01241885 0.01524132 0.14898231]\n",
      "std (age_weeks):  [0.19581335 0.12195155 0.12251132 0.15345922 0.15987475 0.13419932\n",
      " 0.14013541 0.38576868 0.16153784 0.12251132 0.25656394 0.13916508\n",
      " 0.38259493 0.1410985  0.17721406 0.42494673 0.11678534 0.13112234\n",
      " 0.11074577 0.12251132 0.16864448]\n"
     ]
    }
   ],
   "source": [
    "y=df_dummiesLabel['dTrue']\n",
    "X=df_dummies \n",
    "from sklearn.preprocessing import MinMaxScaler\n",
    "scaler = MinMaxScaler() \n",
    "X= scaler.fit_transform(X)\n",
    "\n",
    "print('means (age_weeks): ', X.mean(axis=0))\n",
    "print('std (age_weeks): ', X.std(axis=0))"
   ]
  },
  {
   "cell_type": "code",
   "execution_count": 759,
   "metadata": {},
   "outputs": [
    {
     "name": "stdout",
     "output_type": "stream",
     "text": [
      "(7086,)\n",
      "(7086, 21)\n"
     ]
    }
   ],
   "source": [
    "#Confirm X and y\n",
    "print(y.shape)\n",
    "print(X.shape)"
   ]
  },
  {
   "cell_type": "code",
   "execution_count": 760,
   "metadata": {},
   "outputs": [],
   "source": [
    "X_train,X_test,y_train,y_test=train_test_split(X,y,test_size=0.25,random_state=100)"
   ]
  },
  {
   "cell_type": "code",
   "execution_count": 761,
   "metadata": {},
   "outputs": [],
   "source": [
    "logreg = LogisticRegression()\n",
    "\n",
    "# fit the model with data\n",
    "logreg.fit(X_train,y_train)\n",
    "\n",
    "#\n",
    "y_pred=logreg.predict(X_test)"
   ]
  },
  {
   "cell_type": "code",
   "execution_count": 762,
   "metadata": {},
   "outputs": [
    {
     "name": "stdout",
     "output_type": "stream",
     "text": [
      "[[844   6]\n",
      " [  3 919]]\n"
     ]
    }
   ],
   "source": [
    "# import the metrics class\n",
    "#Regression \n",
    "from sklearn import metrics\n",
    "cnf_matrix = metrics.confusion_matrix(y_test, y_pred)\n",
    "cnf = cnf_matrix.tolist()\n",
    "print(cnf_matrix)"
   ]
  },
  {
   "cell_type": "code",
   "execution_count": 763,
   "metadata": {},
   "outputs": [
    {
     "name": "stdout",
     "output_type": "stream",
     "text": [
      "Accuracy: 0.994920993227991\n"
     ]
    }
   ],
   "source": [
    "print(\"Accuracy:\",metrics.accuracy_score(y_test, y_pred))"
   ]
  },
  {
   "cell_type": "markdown",
   "metadata": {},
   "source": [
    "# Other Accuracy Metrics"
   ]
  },
  {
   "cell_type": "code",
   "execution_count": 771,
   "metadata": {},
   "outputs": [
    {
     "name": "stdout",
     "output_type": "stream",
     "text": [
      "0.5 [0. 1.] [0. 1.]\n"
     ]
    }
   ],
   "source": [
    "from sklearn.metrics import roc_curve, auc\n",
    "false_positive_rate, true_positive_rate, thresholds = roc_curve(y_test, y_pred)\n",
    "roc_auc = auc(false_positive_rate, true_positive_rate)\n",
    "print(roc_auc, false_positive_rate, true_positive_rate)\n",
    "#This is terrible!"
   ]
  },
  {
   "cell_type": "code",
   "execution_count": 772,
   "metadata": {},
   "outputs": [
    {
     "data": {
      "image/png": "[encoded data removed]",
      "text/plain": [
       "<Figure size 432x288 with 1 Axes>"
      ]
     },
     "metadata": {
      "needs_background": "light"
     },
     "output_type": "display_data"
    }
   ],
   "source": [
    "y_pred_prob = logreg.predict_proba(X_test)[:, 1]\n",
    "fpr, tpr, thresholds = metrics.roc_curve(y_test, y_pred_prob)\n",
    "\n",
    "plt.plot(fpr, tpr)\n",
    "plt.xlim([0.0, 1.0])\n",
    "plt.ylim([0.0, 1.0])\n",
    "plt.rcParams['font.size'] = 12\n",
    "plt.title('ROC curve for adoption classifier')\n",
    "plt.xlabel('False Positive Rate (1 - Specificity)')\n",
    "plt.ylabel('True Positive Rate (Sensitivity)')\n",
    "plt.grid(True)"
   ]
  },
  {
   "cell_type": "markdown",
   "metadata": {},
   "source": [
    "The above graph shows a ROC curve that is almost flat to the diagonal - Not Sensitive/Specific enough"
   ]
  },
  {
   "cell_type": "code",
   "execution_count": 773,
   "metadata": {},
   "outputs": [],
   "source": [
    "def evaluate_threshold(threshold):\n",
    "    print('Sensitivity:', tpr[thresholds > threshold][-1])\n",
    "    print('Specificity:', 1 - fpr[thresholds > threshold][-1])"
   ]
  },
  {
   "cell_type": "code",
   "execution_count": 774,
   "metadata": {},
   "outputs": [
    {
     "name": "stdout",
     "output_type": "stream",
     "text": [
      "Sensitivity: 0.6475054229934925\n",
      "Specificity: 0.9976470588235294\n"
     ]
    }
   ],
   "source": [
    "evaluate_threshold(0.7)"
   ]
  },
  {
   "cell_type": "markdown",
   "metadata": {},
   "source": [
    "AUC Scores"
   ]
  },
  {
   "cell_type": "code",
   "execution_count": 775,
   "metadata": {},
   "outputs": [
    {
     "data": {
      "text/plain": [
       "0.9945350974445997"
      ]
     },
     "execution_count": 775,
     "metadata": {},
     "output_type": "execute_result"
    }
   ],
   "source": [
    "from sklearn.model_selection import cross_val_score\n",
    "cross_val_score(logreg, X, y, cv=10, scoring='roc_auc').mean()"
   ]
  },
  {
   "cell_type": "code",
   "execution_count": null,
   "metadata": {},
   "outputs": [],
   "source": []
  },
  {
   "cell_type": "code",
   "execution_count": null,
   "metadata": {},
   "outputs": [],
   "source": []
  }
 ],
 "metadata": {
  "kernelspec": {
   "display_name": "Python 3",
   "language": "python",
   "name": "python3"
  },
  "language_info": {
   "codemirror_mode": {
    "name": "ipython",
    "version": 3
   },
   "file_extension": ".py",
   "mimetype": "text/x-python",
   "name": "python",
   "nbconvert_exporter": "python",
   "pygments_lexer": "ipython3",
   "version": "3.7.4"
  }
 },
 "nbformat": 4,
 "nbformat_minor": 4
}
